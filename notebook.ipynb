{
 "cells": [
  {
   "cell_type": "markdown",
   "metadata": {},
   "source": [
    "# Immune repertoire annotation"
   ]
  },
  {
   "cell_type": "markdown",
   "metadata": {},
   "source": [
    "This tutorial covers some basic aspects of Immune Repertoire Sequencing (RepSeq) data analysis focused on T-cell receptor (TCR) repertoires:\n",
    "Repertoire diversity analysis\n",
    "- Segment usage analysis\n",
    "- Repertoire overlap analysis\n",
    "- Annotation of antigen-specific TCR sequences\n"
   ]
  },
  {
   "cell_type": "markdown",
   "metadata": {},
   "source": [
    "Table filling rules:\n",
    "* Column names should match those on previous slide\n",
    "* Sample id should be one of s1::s16\n",
    "* Two distinct donor IDs should be used, naming doesn’t matter\n",
    "* Subset should be either CD4 or CD8\n",
    "* Phenotype should be either memory or naive\n",
    "* CMV status should be either CMV+ or CMVI Unknown/ambiguous fields should be left blank\n"
   ]
  },
  {
   "cell_type": "markdown",
   "metadata": {},
   "source": [
    "## Prerequesties"
   ]
  },
  {
   "cell_type": "markdown",
   "metadata": {},
   "source": [
    "- R packages\n",
    "```R\n",
    "install.packages(c(\"data.table\",\"dplyr\",\"reshape2\",\"ggplot2\",\"NMF\",\"scales\",\"forcats\",\"parallel\",\"stringr\"))\n",
    "```\n",
    "\n",
    "- clone [repo](https://github.com/mikeraiko/repseq-annotation-tutorial.git)\n",
    "\n",
    "- use tutorial.Rmd"
   ]
  },
  {
   "cell_type": "markdown",
   "metadata": {},
   "source": [
    "## Filling out the table"
   ]
  },
  {
   "cell_type": "markdown",
   "metadata": {},
   "source": [
    "First, we detect replicas by this plot. Pairs are clusterized together.\n",
    "\n",
    "![dendro_heatmap](img/dendrohm.png)"
   ]
  },
  {
   "cell_type": "markdown",
   "metadata": {},
   "source": [
    "Based on the diversity index we can assume memory or naive. Memory cells have higher TCR diveristy.\n",
    "\n",
    "![diversity](img/diversity.png)"
   ]
  },
  {
   "cell_type": "markdown",
   "metadata": {},
   "source": [
    "Using dendrogramm with heatmap of gene expression we can differentiate cd4 and cd8 cells. Some of these halves is cd4 and the other is cd8\n",
    "\n",
    "![heatmap_genes](img/heatmap_genes.png)\n",
    "\n",
    "Googling reported that cd8 cells are primary immune response cells during influenza, thus samples s3, s7, having the most TCR specific for influenza a might be the marker.\n",
    "\n",
    "Also EBV specificity almost perfectly differentiates clades on the dendrogram. Though there is no obvious reason for this.\n",
    "\n",
    "![specificity](img/antigens.png)"
   ]
  },
  {
   "cell_type": "markdown",
   "metadata": {},
   "source": [
    "And so we fill the table as such\n",
    "\n",
    "| sample | donor | subset | phenotype | CMVstatus |\n",
    "|---|---|---|---|---|\n",
    "| s1 | d1 |  | memory | cmv+ |\n",
    "| s2 | d1 |  | memory | cmv+ |\n",
    "| s3 | d1 |  | naive | cmv+ |\n",
    "| s4 | d2 |  | naive | cmv- |\n",
    "| s5 | d1 |  | memory | cmv+ |\n",
    "| s6 | d2 |  | naive | cmv- |\n",
    "| s7 | d1 |  | naive | cmv+ |\n",
    "| s8 | d2 |  | memory | cmv- |\n",
    "| s9 | d1 |  | memory | cmv+ |\n",
    "| s10 | d2 |  | memory | cmv- |\n",
    "| s11 | d1 |  | memory | cmv+ |\n",
    "| s12 | d1 |  | memory | cmv+ |\n",
    "| s13 | d1 |  | memory | cmv+ |\n",
    "| s14 | d1 |  | memory | cmv+ |\n",
    "| s15 | d2 |  | memory | cmv- |\n",
    "| s16 | d2 |  | memory | cmv- |\n",
    "\n",
    "\n",
    "The only field which doesn't fill in is s1 that doesn't have CMV on the Antigen specificity plot but we can assume ~~(π equals 5 so that further results would add up)~~ that it's just too small to be shown."
   ]
  }
 ],
 "metadata": {
  "language_info": {
   "name": "python"
  }
 },
 "nbformat": 4,
 "nbformat_minor": 2
}
